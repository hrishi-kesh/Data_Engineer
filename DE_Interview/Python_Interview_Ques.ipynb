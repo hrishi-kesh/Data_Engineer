{
 "cells": [
  {
   "cell_type": "code",
   "execution_count": null,
   "metadata": {},
   "outputs": [
    {
     "name": "stdout",
     "output_type": "stream",
     "text": [
      "0\n"
     ]
    },
    {
     "data": {
      "text/plain": [
       "'\\ndef flatten_list(l):\\n    for i in l:\\n        if isinstance(i, list):\\n            yield from flatten_list(i)\\n        else:\\n            yield i\\n\\nyield:\\nyield is used in Python to produce a value and pause the function execution, allowing the function to be resumed later.\\nA function that uses yield is called a generator function, and it returns a generator object.\\nUnlike return, yield doesn\\'t terminate the function—it simply pauses and remembers the state.\\nyield from:\\n\\nyield from is a concise way to yield all values from an iterable or generator.\\nIn this case, yield from flatten_list(i) means: \"Take each element from the generator returned by the recursive call and yield it one by one.\"\\n\\nisinstance Function:\\n\\nSyntax: isinstance(object, class_or_tuple)\\nThe function checks if the object belongs to the specified class_or_tuple.\\nIt returns True if the object is an instance of the given class (or classes in a tuple), and False otherwise.\\nExamples:\\nprint(isinstance(42, int))        # True (42 is an integer)\\nprint(isinstance(\"hello\", str))  # True (\"hello\" is a string)\\nprint(isinstance([1, 2, 3], list))  # True ([1, 2, 3] is a list)\\nprint(isinstance(42, list))      # False (42 is not a list)\\n'"
      ]
     },
     "execution_count": 6,
     "metadata": {},
     "output_type": "execute_result"
    }
   ],
   "source": [
    "# Wissen Technlogy Interview Questions For Data Engineer\n",
    "\n",
    "#1. Count the number of unique characters from given number.\n",
    "\n",
    "#when input is number\n",
    "num=input(\"Enter a number: \")\n",
    "print(len(set(num)))\n"
   ]
  },
  {
   "cell_type": "code",
   "execution_count": null,
   "metadata": {},
   "outputs": [
    {
     "name": "stdout",
     "output_type": "stream",
     "text": [
      "[1, 2, 3, 4, 5, 6]\n"
     ]
    },
    {
     "data": {
      "text/plain": [
       "'\\ndef flatten_list(l):\\n    for i in l:\\n        if isinstance(i, list):\\n            yield from flatten_list(i)\\n        else:\\n            yield i\\n\\nyield:\\nyield is used in Python to produce a value and pause the function execution, allowing the function to be resumed later.\\nA function that uses yield is called a generator function, and it returns a generator object.\\nUnlike return, yield doesn\\'t terminate the function—it simply pauses and remembers the state.\\nyield from:\\n\\nyield from is a concise way to yield all values from an iterable or generator.\\nIn this case, yield from flatten_list(i) means: \"Take each element from the generator returned by the recursive call and yield it one by one.\"\\n\\nisinstance Function:\\n\\nSyntax: isinstance(object, class_or_tuple)\\nThe function checks if the object belongs to the specified class_or_tuple.\\nIt returns True if the object is an instance of the given class (or classes in a tuple), and False otherwise.\\nExamples:\\nprint(isinstance(42, int))        # True (42 is an integer)\\nprint(isinstance(\"hello\", str))  # True (\"hello\" is a string)\\nprint(isinstance([1, 2, 3], list))  # True ([1, 2, 3] is a list)\\nprint(isinstance(42, list))      # False (42 is not a list)\\n'"
      ]
     },
     "execution_count": 9,
     "metadata": {},
     "output_type": "execute_result"
    }
   ],
   "source": [
    "#2. list1 = [1, [2, 3, [4, 5, 6]]] convert this list to a flat list.\n",
    "def flatten_list(l):\n",
    "    flat_list=[]\n",
    "    for i in l:\n",
    "        if isinstance(i, list):\n",
    "            flat_list.extend(flatten_list(i))   #extend() method adds all the elements of an iterable (list, tuple, string etc.) to the end of the list.\n",
    "        else:\n",
    "            flat_list.append(i) #append() method adds an element to the end of the list.\n",
    "    return flat_list\n",
    "\n",
    "list1 = [1, [2, 3, [4, 5, 6]]]\n",
    "print(flatten_list(list1))\n",
    "\n",
    "'''\n",
    "def flatten_list(l):\n",
    "    for i in l:\n",
    "        if isinstance(i, list):\n",
    "            yield from flatten_list(i)\n",
    "        else:\n",
    "            yield i\n",
    "\n",
    "yield:\n",
    "yield is used in Python to produce a value and pause the function execution, allowing the function to be resumed later.\n",
    "A function that uses yield is called a generator function, and it returns a generator object.\n",
    "Unlike return, yield doesn't terminate the function—it simply pauses and remembers the state.\n",
    "yield from:\n",
    "\n",
    "yield from is a concise way to yield all values from an iterable or generator.\n",
    "In this case, yield from flatten_list(i) means: \"Take each element from the generator returned by the recursive call and yield it one by one.\"\n",
    "\n",
    "isinstance Function:\n",
    "\n",
    "Syntax: isinstance(object, class_or_tuple)\n",
    "The function checks if the object belongs to the specified class_or_tuple.\n",
    "It returns True if the object is an instance of the given class (or classes in a tuple), and False otherwise.\n",
    "Examples:\n",
    "print(isinstance(42, int))        # True (42 is an integer)\n",
    "print(isinstance(\"hello\", str))  # True (\"hello\" is a string)\n",
    "print(isinstance([1, 2, 3], list))  # True ([1, 2, 3] is a list)\n",
    "print(isinstance(42, list))      # False (42 is not a list)\n",
    "'''"
   ]
  },
  {
   "cell_type": "code",
   "execution_count": 12,
   "metadata": {},
   "outputs": [
    {
     "name": "stdout",
     "output_type": "stream",
     "text": [
      "10.666666666666666\n"
     ]
    }
   ],
   "source": [
    "#3. Does this code run without error? If so, what does it output?\n",
    "'''\n",
    "class A:\n",
    "\tdef fun(a,b):\n",
    "\t\treturn a+b\n",
    " \n",
    "class B(A):\n",
    "\tdef fun(p,q,r):\n",
    "\t\treturn p+q/r\n",
    " \n",
    "b1= B()\n",
    " \n",
    "b1.fun(10,20)\n",
    "b1.fun(10,20,30)\n",
    "'''\n",
    "# Corrected code:\n",
    "class A:\n",
    "    def fun(self,a,b):\n",
    "        return a+b\n",
    "class B(A):\n",
    "    def fun(self,p,q,r):\n",
    "        return p+q/r\n",
    "b1= B()\n",
    "#print(b1.fun(10,20))   this will give error because number of arguments are not matching \n",
    "# To work this we need to define 3rd parameter as optional def fun(self, p, q, r=None):\n",
    "print(b1.fun(10,20,30))"
   ]
  }
 ],
 "metadata": {
  "kernelspec": {
   "display_name": "Python 3",
   "language": "python",
   "name": "python3"
  },
  "language_info": {
   "codemirror_mode": {
    "name": "ipython",
    "version": 3
   },
   "file_extension": ".py",
   "mimetype": "text/x-python",
   "name": "python",
   "nbconvert_exporter": "python",
   "pygments_lexer": "ipython3",
   "version": "3.12.2"
  }
 },
 "nbformat": 4,
 "nbformat_minor": 2
}
