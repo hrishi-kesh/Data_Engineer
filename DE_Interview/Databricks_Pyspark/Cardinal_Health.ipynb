{
 "cells": [
  {
   "cell_type": "code",
   "execution_count": null,
   "metadata": {},
   "outputs": [
    {
     "name": "stdout",
     "output_type": "stream",
     "text": [
      "Defaulting to user installation because normal site-packages is not writeable\n",
      "Collecting cx_Oracle\n",
      "  Using cached cx_Oracle-8.3.0.tar.gz (363 kB)\n",
      "  Installing build dependencies: started\n",
      "  Installing build dependencies: finished with status 'done'\n",
      "  Getting requirements to build wheel: started\n",
      "  Getting requirements to build wheel: finished with status 'done'\n",
      "  Preparing metadata (pyproject.toml): started\n",
      "  Preparing metadata (pyproject.toml): finished with status 'done'\n",
      "Building wheels for collected packages: cx_Oracle\n",
      "  Building wheel for cx_Oracle (pyproject.toml): started\n",
      "  Building wheel for cx_Oracle (pyproject.toml): finished with status 'done'\n",
      "  Created wheel for cx_Oracle: filename=cx_oracle-8.3.0-cp313-cp313-win_amd64.whl size=224026 sha256=30757fd5f0f5af44c7754a50034e854f026484491147762dda6bd4bda480c90b\n",
      "  Stored in directory: c:\\users\\khila\\appdata\\local\\pip\\cache\\wheels\\51\\d5\\df\\61146784a04f4192f24a4ae0d3795d8016e8bea735f768e2e1\n",
      "Successfully built cx_Oracle\n",
      "Installing collected packages: cx_Oracle\n",
      "Successfully installed cx_Oracle-8.3.0\n",
      "Note: you may need to restart the kernel to use updated packages.\n"
     ]
    }
   ],
   "source": [
    "'''\n",
    "1. Please find the 3rd highest salary from the emp_card table without using with cte but using sub query\n",
    "'''\n",
    "%pip install cx_Oracle\n",
    "import cx_Oracle\n",
    "\n",
    "dsn_tns=cx_Oracle.makedsn('localhost','1521',service_name='orcl')\n",
    "conn=cx_Oracle.connect(user='sivaacademy',password='securecode',dsn=dsn_tns)\n",
    "cursor=conn.cursor()\n",
    "\n",
    "cursor.execute('''\n",
    "create table emp_card (\n",
    "    EmpId number,\n",
    "    Project varchar2(10),\n",
    "    Salary number,\n",
    "    Variable number\n",
    ")\n",
    "''')\n",
    "\n",
    "cursor.execute('''\n",
    "insert into emp_card (EmpId, Project, Salary, Variable) values (121, 'P1', 8000, 500)\n",
    "''')\n",
    "cursor.execute('''\n",
    "insert into emp_card (EmpId, Project, Salary, Variable) values (321, 'P2', 10000, 1000)\n",
    "''')\n",
    "cursor.execute('''\n",
    "insert into emp_card (EmpId, Project, Salary, Variable) values (421, 'P1', 12000, 0)\n",
    "''')\n",
    "conn.commit()\n"
   ]
  },
  {
   "cell_type": "code",
   "execution_count": null,
   "metadata": {},
   "outputs": [
    {
     "name": "stdout",
     "output_type": "stream",
     "text": [
      "[(121, 'P1', 8000, 500), (321, 'P2', 10000, 1000), (421, 'P1', 12000, 0)]\n",
      "3rd Highest Salary: 8000\n"
     ]
    }
   ],
   "source": [
    "#1. Please find the 3rd highest salary from the emp_card table without using with cte but using sub query\n",
    "import cx_Oracle\n",
    "\n",
    "dsn_tns=cx_Oracle.makedsn('localhost','1521',service_name='orcl')\n",
    "conn=cx_Oracle.connect(user='sivaacademy',password='securecode',dsn=dsn_tns)\n",
    "cursor=conn.cursor()\n",
    "\n",
    "cursor.execute('''select * from emp_card''')\n",
    "print(cursor.fetchall())\n",
    "\n",
    "# Find the 3rd highest salary using a subquery\n",
    "query = '''\n",
    "SELECT MIN(Salary) AS ThirdHighestSalary\n",
    "FROM (\n",
    "    SELECT Salary\n",
    "    FROM emp_card\n",
    "    ORDER BY Salary DESC\n",
    ")\n",
    "WHERE ROWNUM <= 3\n",
    "'''\n",
    "cursor.execute(query)\n",
    "result = cursor.fetchone()\n",
    "print(\"3rd Highest Salary:\", result[0])"
   ]
  },
  {
   "cell_type": "code",
   "execution_count": 6,
   "metadata": {},
   "outputs": [
    {
     "name": "stdout",
     "output_type": "stream",
     "text": [
      "[(1, 'water bottle', 2), (2, 'tent', 1), (3, 'apple', 4)]\n",
      "(1, 'water bottle')\n",
      "(1, 'water bottle')\n",
      "(2, 'tent')\n",
      "(3, 'apple')\n",
      "(3, 'apple')\n",
      "(3, 'apple')\n",
      "(3, 'apple')\n"
     ]
    }
   ],
   "source": [
    "'''\n",
    "2. Convert this input into output\n",
    "\n",
    "Input:\n",
    "ID\tITEM_NAME\tTOTAL_COUNT\n",
    "1\twater bottle\t2\n",
    "2\ttent\t1\n",
    "3\tapple\t4\n",
    " \n",
    "Expected Output:\n",
    "ID\tITEM_NAME\n",
    "1\twater bottle\n",
    "1\twater bottle\n",
    "2\ttent\n",
    "3\tapple\n",
    "3\tapple\n",
    "3\tapple\n",
    "3\tapple\n",
    "'''\n",
    "\n",
    "\n",
    "# Use the existing connection and cursor\n",
    "import cx_Oracle\n",
    "dsn_tns=cx_Oracle.makedsn('localhost','1521',service_name='orcl')\n",
    "conn=cx_Oracle.connect(user='sivaacademy',password='securecode',dsn=dsn_tns)\n",
    "cursor=conn.cursor()\n",
    "# cursor.execute('''create table item (\n",
    "#     ID number,\n",
    "#     ITEM_NAME varchar2(50),\n",
    "#     TOTAL_COUNT number\n",
    "# )\n",
    "# ''')\n",
    "\n",
    "# cursor.execute('''\n",
    "# insert into item (ID, ITEM_NAME, TOTAL_COUNT) values (1, 'water bottle', 2)\n",
    "# ''')\n",
    "# cursor.execute('''\n",
    "# insert into item (ID, ITEM_NAME, TOTAL_COUNT) values (2, 'tent', 1)\n",
    "# ''')\n",
    "# cursor.execute('''\n",
    "# insert into item (ID, ITEM_NAME, TOTAL_COUNT) values (3, 'apple', 4)\n",
    "# ''')\n",
    "# conn.commit()\n",
    "\n",
    "cursor.execute('''select ID, ITEM_NAME, TOTAL_COUNT from item''')\n",
    "rows = cursor.fetchall()\n",
    "print(rows)\n",
    "\n",
    "cursor.execute('''\n",
    "SELECT ID, ITEM_NAME\n",
    "FROM item, (SELECT LEVEL as L FROM dual CONNECT BY LEVEL <= (SELECT MAX(TOTAL_COUNT) FROM item))\n",
    "WHERE L <= TOTAL_COUNT\n",
    "ORDER BY ID\n",
    "''')\n",
    "# This query generates the required number of rows for each item based on the TOTAL_COUNT.\n",
    "# The subquery (SELECT LEVEL as L FROM dual CONNECT BY LEVEL <= (SELECT MAX(TOTAL_COUNT) FROM item)) generates a series of numbers from 1 to the maximum TOTAL_COUNT in the item table.\n",
    "# The main query joins the item table with this series of numbers.\n",
    "# The WHERE clause ensures that only the required number of rows for each item is selected.\n",
    "# The ORDER BY clause sorts the output by ID.\n",
    "\n",
    "rows = cursor.fetchall()\n",
    "for row in rows:\n",
    "    print(row)\n"
   ]
  },
  {
   "cell_type": "code",
   "execution_count": null,
   "metadata": {},
   "outputs": [
    {
     "name": "stdout",
     "output_type": "stream",
     "text": [
      "[2, 3, 4, 5, 6, 7]\n",
      "[2, 3, 4, 5, 6, 7]\n"
     ]
    }
   ],
   "source": [
    "'''\n",
    "3. Please write a python code to remove duplicate with and without using set function\n",
    "l=[2,3,4,4,4,5,6,7]\n",
    "'''\n",
    "l=[2,3,4,4,4,5,6,7]\n",
    "print(list(set(l)))\n",
    "\n",
    "l=[2,3,4,4,4,5,6,7]\n",
    "l2=[]\n",
    "for i in range(len(l)-1):\n",
    "    if l[i] != l[i+1]:\n",
    "        l2 = l2 + [l[i]]  # l2.append(l[i]) \n",
    "        # We can't use l2 = l2 + l[i] because l[i] is an integer, and we need to add it as a list element.\n",
    "l2.append(l[-1])  # Append the last element\n",
    "print(l2)"
   ]
  },
  {
   "cell_type": "code",
   "execution_count": 6,
   "metadata": {},
   "outputs": [
    {
     "name": "stdout",
     "output_type": "stream",
     "text": [
      "['A', 'E', 'G', 'G']\n",
      "4\n",
      "['A', 'E', 'G', 'G']\n",
      "4\n",
      "['A', 'E', 'G', 'G']\n",
      "4\n"
     ]
    }
   ],
   "source": [
    "'''\n",
    "4. Please write a python code to find the uppercase letter and count it with using ibuild function and without using inbuild function\n",
    "s=\"Abcd\"\n",
    "'''\n",
    "s=\"AbcdEfGG\"\n",
    "a=[i for i in s if i.isupper()]\n",
    "print(a)\n",
    "print(len(a))\n",
    "\n",
    "# using regular expression\n",
    "import re\n",
    "s=\"AbcdEfGG\"\n",
    "\n",
    "# The 'r' before the string denotes a raw string, which tells Python not to handle backslashes as escape characters.\n",
    "a=re.findall(r'[A-Z]', s)\n",
    "print(a)\n",
    "print(len(a))\n",
    "\n",
    "# re.search() is used to find the first occurrence of the pattern in the string, \n",
    "# while re.findall() finds all occurrences of the pattern and returns them as a list.\n",
    "# Therefore, re.search() cannot be used here as it will only return the first uppercase letter.\n",
    "\n",
    "# without using inbuild function\n",
    "s=\"AbcdEfGG\"\n",
    "count=0\n",
    "uppercase_letters = []\n",
    "for i in s:\n",
    "    if i>='A' and i<='Z':\n",
    "        count+=1\n",
    "        uppercase_letters.append(i)\n",
    "print(uppercase_letters)\n",
    "print(count)"
   ]
  },
  {
   "cell_type": "code",
   "execution_count": 8,
   "metadata": {},
   "outputs": [
    {
     "name": "stdout",
     "output_type": "stream",
     "text": [
      "dcbA\n",
      "dcbA\n",
      "dcbAdcbA"
     ]
    }
   ],
   "source": [
    "'''\n",
    "5. Please write a python code to find the reverse of the string with and without using inbuild function\n",
    "s=\"Abcd\"\n",
    "'''\n",
    "s=\"Abcd\"\n",
    "print(s[::-1])\n",
    "\n",
    "# without using inbuild function\n",
    "\n",
    "s = \"Abcd\"\n",
    "s2 = ''\n",
    "# Iterate over the string in reverse order using range\n",
    "for i in range(len(s) - 1, -1, -1):\n",
    "    s2 += s[i]\n",
    "print(s2)\n",
    "\n",
    "# Alternatively, we can use the reversed() function to reverse the string\n",
    "s = \"Abcd\"\n",
    "for i in reversed(s):\n",
    "    print(i, end='')\n",
    "\n",
    "s = \"Abcd\"\n",
    "l = list(s)\n",
    "for i in reversed (l):\n",
    "    print(i, end='')\n"
   ]
  },
  {
   "cell_type": "code",
   "execution_count": 11,
   "metadata": {},
   "outputs": [
    {
     "name": "stdout",
     "output_type": "stream",
     "text": [
      "[1, 2, 3, 4, 5, 6, 7, 8]\n",
      "[1, 2, 3, 4, 5, 6, 7, 8]\n"
     ]
    }
   ],
   "source": [
    "# Write this list as flatten list\n",
    "# Input: [[1,2,3],[4,5],[6,7,8]]\n",
    "# Output: [1,2,3,4,5,6,7,8]\n",
    "l = [[1,2,3],[4,5],[6,7,8]]\n",
    "l1= [1,[2,[3,4,5],6,7],8]\n",
    "l2 = []\n",
    "for i in l:\n",
    "    l2 += i\n",
    "print(l2)\n",
    "# Flatten l1\n",
    "def flatten_list(l):\n",
    "    flat = []\n",
    "    for i in l:\n",
    "        if isinstance(i, list):\n",
    "            flat.extend(flatten_list(i)) # we can also use flat += flatten_list(i)\n",
    "            #flat += flatten_list(i)\n",
    "            # The extend() method adds all the elements of an iterable (list, tuple, string, etc.) to the end of the list.\n",
    "            # Why we are not using append() method here because append() method adds its argument as a single element to the end of a list.\n",
    "        else:\n",
    "            flat.append(i)\n",
    "    return flat\n",
    "\n",
    "print(flatten_list(l1))"
   ]
  },
  {
   "cell_type": "code",
   "execution_count": 2,
   "metadata": {},
   "outputs": [
    {
     "name": "stdout",
     "output_type": "stream",
     "text": [
      "[[3, 2, 1], [5, 4], [8, 7, 6]]\n"
     ]
    }
   ],
   "source": [
    "# Write this list as reversed in nested list\n",
    "# Input: [[1,2,3],[4,5],[6,7,8]]\n",
    "# Output: [[3,2,1],[5,4],[8,7,6]]\n",
    "l = [[1,2,3],[4,5],[6,7,8]]\n",
    "l2 = []\n",
    "for i in l:\n",
    "    l2.append(i[::-1])\n",
    "print(l2)"
   ]
  },
  {
   "cell_type": "code",
   "execution_count": 1,
   "metadata": {},
   "outputs": [
    {
     "name": "stdout",
     "output_type": "stream",
     "text": [
      "1234456\n",
      "Helloword\n",
      "\"%^$\"*(*&'\n"
     ]
    }
   ],
   "source": [
    "'''\n",
    "input_string = Hello\"1234%^$word4\"56*(*&'\n",
    "expected output. \n",
    "number = 1234456\n",
    "characters = Helloword\n",
    "special Char= \"%^\"*(*&'\n",
    "'''\n",
    "\n",
    "import re\n",
    "input_string = 'Hello\\\"1234%^$word4\\\"56*(*&\\''\n",
    "\n",
    "# Extract numbers\n",
    "s1 = re.sub(r\"[^0-9]\", '', input_string)\n",
    "\n",
    "# Extract characters\n",
    "s2 = re.sub(r\"[^A-Za-z]\", '', input_string)\n",
    "\n",
    "# Extract special characters\n",
    "s3 = re.sub(r\"[A-Za-z0-9]\", '', input_string)\n",
    "\n",
    "print(s1,s2,s3, sep='\\n') # sep='\\n' is used to separate the output by a newline character and we can use end='\\n' to add a newline character at the end of the print statement."
   ]
  }
 ],
 "metadata": {
  "kernelspec": {
   "display_name": "Python 3",
   "language": "python",
   "name": "python3"
  },
  "language_info": {
   "codemirror_mode": {
    "name": "ipython",
    "version": 3
   },
   "file_extension": ".py",
   "mimetype": "text/x-python",
   "name": "python",
   "nbconvert_exporter": "python",
   "pygments_lexer": "ipython3",
   "version": "3.10.0"
  }
 },
 "nbformat": 4,
 "nbformat_minor": 2
}
