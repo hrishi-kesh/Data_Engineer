{
 "cells": [
  {
   "cell_type": "code",
   "execution_count": 2,
   "metadata": {},
   "outputs": [
    {
     "name": "stderr",
     "output_type": "stream",
     "text": [
      "\n",
      "  0%|          | 0.00/495k [00:00<?, ?B/s]\n",
      "100%|██████████| 495k/495k [00:01<00:00, 295kB/s]\n",
      "100%|██████████| 495k/495k [00:01<00:00, 295kB/s]\n"
     ]
    },
    {
     "name": "stdout",
     "output_type": "stream",
     "text": [
      "Dataset URL: https://www.kaggle.com/datasets/san2deep/flipkart-product-dataset\n",
      "License(s): DbCL-1.0\n",
      "Downloading test.csv to d:\\Data_Engineer\\Flipkart_Pyspark_DE_Project\n",
      "\n"
     ]
    }
   ],
   "source": [
    "# Pyspark DE Project \"FlipKart Data Engineering Project EXPOSED for Beginners! | END to END PySpark Project\" by \"Be a Programmer YT Channel\"\n",
    "#import libraries\n",
    "#!pip install kaggle\n",
    "import kaggle\n",
    "#download dataset using kaggle api --downloading anyone playstore dataset using old api\n",
    "!kaggle datasets download san2deep/flipkart-product-dataset -f test.csv"
   ]
  },
  {
   "cell_type": "code",
   "execution_count": 49,
   "metadata": {},
   "outputs": [],
   "source": [
    "# install and import pyspark \n",
    "#!pip install pyspark it is already installed\n",
    "import pyspark\n",
    "from pyspark.sql import SparkSession\n",
    "from pyspark.sql.types import StructType,StructField,StringType,IntegerType\n",
    "from pyspark.sql.functions import *\n",
    "spark=SparkSession.builder\\\n",
    ".appName(\"FlipkartPysparkApp\")\\\n",
    ".config(\"spark.hadoop.fs.file.impl\", \"org.apache.hadoop.fs.LocalFileSystem\")\\\n",
    ".getOrCreate()\n",
    "#Create Dataframe\n",
    "df=spark.read.load('test.csv',format='csv',sep=\",\",header='true',escape='\"',inferSchema='True')# we can use read.csv to directly reading csv file but by default read.load is reading parquet format for other we need to define format"
   ]
  },
  {
   "cell_type": "code",
   "execution_count": 50,
   "metadata": {},
   "outputs": [
    {
     "name": "stdout",
     "output_type": "stream",
     "text": [
      "+-----+--------------------+------+---------+--------+---------+---------+----------+-------+-------+-------+-------+-------+----------+\n",
      "|   id|               title|Rating|maincateg|platform|actprice1|norating1|noreviews1|star_5f|star_4f|star_3f|star_2f|star_1f|fulfilled1|\n",
      "+-----+--------------------+------+---------+--------+---------+---------+----------+-------+-------+-------+-------+-------+----------+\n",
      "| 2242|Casuals For Men  ...|   3.8|      Men|Flipkart|      999|    27928|      3543|  14238|   4295|   3457|   1962|   3976|         1|\n",
      "|20532|Women Black Flats...|   3.9|    Women|Flipkart|      499|     3015|       404|   1458|    657|    397|    182|    321|         1|\n",
      "|10648|Women Gold Wedges...|   3.9|    Women|Flipkart|      999|      449|        52|    229|     70|     71|     33|     46|         1|\n",
      "|20677|Men's Height Incr...|   3.9|      Men|Flipkart|     2999|      290|        40|    141|     51|     49|     17|     32|         1|\n",
      "|12593|Loafers For Men  ...|   3.9|      Men|Flipkart|      999|     2423|       326|   1265|    414|    293|    143|    308|         0|\n",
      "+-----+--------------------+------+---------+--------+---------+---------+----------+-------+-------+-------+-------+-------+----------+\n",
      "only showing top 5 rows\n",
      "\n"
     ]
    }
   ],
   "source": [
    "df.show(5) #df.show(5, truncate=False) means all column are fully visible"
   ]
  },
  {
   "cell_type": "code",
   "execution_count": 51,
   "metadata": {},
   "outputs": [
    {
     "name": "stdout",
     "output_type": "stream",
     "text": [
      "root\n",
      " |-- id: integer (nullable = true)\n",
      " |-- title: string (nullable = true)\n",
      " |-- Rating: double (nullable = true)\n",
      " |-- maincateg: string (nullable = true)\n",
      " |-- platform: string (nullable = true)\n",
      " |-- actprice1: integer (nullable = true)\n",
      " |-- norating1: integer (nullable = true)\n",
      " |-- noreviews1: integer (nullable = true)\n",
      " |-- star_5f: integer (nullable = true)\n",
      " |-- star_4f: integer (nullable = true)\n",
      " |-- star_3f: integer (nullable = true)\n",
      " |-- star_2f: integer (nullable = true)\n",
      " |-- star_1f: integer (nullable = true)\n",
      " |-- fulfilled1: integer (nullable = true)\n",
      "\n",
      "+-------+------------------+--------------------+-------------------+---------+--------+------------------+------------------+------------------+-----------------+-----------------+------------------+------------------+------------------+-------------------+\n",
      "|summary|                id|               title|             Rating|maincateg|platform|         actprice1|         norating1|        noreviews1|          star_5f|          star_4f|           star_3f|           star_2f|           star_1f|         fulfilled1|\n",
      "+-------+------------------+--------------------+-------------------+---------+--------+------------------+------------------+------------------+-----------------+-----------------+------------------+------------------+------------------+-------------------+\n",
      "|  count|              5244|                5244|               5041|     5177|    5244|              5244|              5244|              5244|             5176|             5244|              5244|              5244|              5058|               5244|\n",
      "|   mean|10507.372616323417|                 0.0|  4.011089069629038|     NULL|    NULL| 1378.657894736842|2988.5800915331806|415.49103737604884|1557.443199381762|639.7854691075515| 356.3567887109077|154.13996948893973| 270.3977856860419| 0.6045003813882532|\n",
      "| stddev|  5978.65889151765|                NULL|0.30191522284782074|     NULL|    NULL|1280.6300702165822|12881.253714820072|1910.7266693173326|6583.766997674775|2991.065223081954|1632.7328338881507| 611.0067985620702|1035.0852878031521|0.48900436610958664|\n",
      "|    min|                 0|                   0|                0.0|      Men|  Amazon|               139|                 1|                 0|                0|                0|                 0|                 0|                 0|                  0|\n",
      "|    max|             20964| Bellies For Wome...|                5.0|    Women|Flipkart|             15999|            289973|             45448|           151193|            74037|             49924|             12629|             23139|                  1|\n",
      "+-------+------------------+--------------------+-------------------+---------+--------+------------------+------------------+------------------+-----------------+-----------------+------------------+------------------+------------------+-------------------+\n",
      "\n"
     ]
    }
   ],
   "source": [
    "#checking the schema\n",
    "df.printSchema() #it will show the datatype of each column initially we define inferSchema='true' means spark will create same schema as source file\n",
    "df.describe().show() #Summarizes the DataFrame by providing basic statistics (e.g., count, mean, standard deviation, min, max) for numeric columns.\n"
   ]
  },
  {
   "cell_type": "code",
   "execution_count": 52,
   "metadata": {},
   "outputs": [
    {
     "name": "stdout",
     "output_type": "stream",
     "text": [
      "+---+-----+------+---------+--------+---------+---------+----------+-------+-------+-------+-------+-------+----------+\n",
      "| id|title|Rating|maincateg|platform|actprice1|norating1|noreviews1|star_5f|star_4f|star_3f|star_2f|star_1f|fulfilled1|\n",
      "+---+-----+------+---------+--------+---------+---------+----------+-------+-------+-------+-------+-------+----------+\n",
      "|  0|    0|     0|        0|       0|        0|        0|         0|      0|      0|      0|      0|      0|         0|\n",
      "+---+-----+------+---------+--------+---------+---------+----------+-------+-------+-------+-------+-------+----------+\n",
      "\n"
     ]
    }
   ],
   "source": [
    "#handling the missing data\n",
    "#df.select([count(when(col(c).isNull(),c)).alias(c) for c in df.columns]).show()\n",
    "#drop the rows that is missing\n",
    "df_cleanflip=df.dropna()\n",
    "df_cleanflip.select([count(when(col(c).isNull(),c)).alias(c) for c in df_cleanflip.columns]).show()\n",
    "#filling specific values to the columns or missing columns\n",
    "df_filledflip=df.fillna({\"Rating\":0})\n"
   ]
  },
  {
   "cell_type": "code",
   "execution_count": 54,
   "metadata": {},
   "outputs": [
    {
     "name": "stdout",
     "output_type": "stream",
     "text": [
      "+-----+--------------------+------+---------+--------+---------+---------+----------+-------+-------+-------+-------+-------+----------+\n",
      "|   id|               title|Rating|maincateg|platform|actprice1|norating1|noreviews1|star_5f|star_4f|star_3f|star_2f|star_1f|fulfilled1|\n",
      "+-----+--------------------+------+---------+--------+---------+---------+----------+-------+-------+-------+-------+-------+----------+\n",
      "| 6433|ARYA - DIFFERENT ...|   4.2|    Women|Flipkart|     4299|      166|        24|     94|     39|     12|      6|     15|         1|\n",
      "|13859|Women Black Wedge...|   4.2|    Women|Flipkart|      279|     3048|       487|   1746|    679|    348|    114|    161|         1|\n",
      "|19453|Denill Ankle Leng...|   4.1|    Women|Flipkart|      999|     6806|       961|   3646|   1508|    810|    335|    510|         1|\n",
      "| 8121|Women Grey Heels ...|   4.2|    Women|Flipkart|     1990|       16|         1|     10|      2|      1|      3|      0|         1|\n",
      "| 9791|Pink Perfect Styl...|   4.2|    Women|Flipkart|      999|      509|        73|    288|    106|     61|     17|     37|         1|\n",
      "+-----+--------------------+------+---------+--------+---------+---------+----------+-------+-------+-------+-------+-------+----------+\n",
      "only showing top 5 rows\n",
      "\n"
     ]
    }
   ],
   "source": [
    "# Filter products with ratings greater than 4 and priced below 1000\n",
    "high_rated_products=df_filledflip.filter((col(\"Rating\")>4))\n",
    "high_rated_products.show(5) #show the result"
   ]
  },
  {
   "cell_type": "code",
   "execution_count": 55,
   "metadata": {},
   "outputs": [
    {
     "name": "stdout",
     "output_type": "stream",
     "text": [
      "+---------+------------------+\n",
      "|maincateg|       avg(Rating)|\n",
      "+---------+------------------+\n",
      "|     NULL|0.7567164179104477|\n",
      "|      Men|3.8350116550116575|\n",
      "|    Women|  3.93901715039579|\n",
      "+---------+------------------+\n",
      "\n"
     ]
    }
   ],
   "source": [
    "#group the category and calculate the averate rating\n",
    "avg_rating_by_category=df_filledflip.groupBy(\"maincateg\").avg(\"Rating\")\n",
    "avg_rating_by_category.show()"
   ]
  },
  {
   "cell_type": "code",
   "execution_count": 56,
   "metadata": {},
   "outputs": [
    {
     "name": "stdout",
     "output_type": "stream",
     "text": [
      "+---------+------------------+\n",
      "|maincateg|       sum(Rating)|\n",
      "+---------+------------------+\n",
      "|     NULL|50.699999999999996|\n",
      "|      Men| 8226.100000000006|\n",
      "|    Women|11943.100000000035|\n",
      "+---------+------------------+\n",
      "\n"
     ]
    }
   ],
   "source": [
    "#Total Revenue by category\n",
    "total_revenue_by_category=df_filledflip.groupBy(\"maincateg\").agg(sum(\"Rating\"))\n",
    "total_revenue_by_category.show()"
   ]
  }
 ],
 "metadata": {
  "kernelspec": {
   "display_name": "Python 3",
   "language": "python",
   "name": "python3"
  },
  "language_info": {
   "codemirror_mode": {
    "name": "ipython",
    "version": 3
   },
   "file_extension": ".py",
   "mimetype": "text/x-python",
   "name": "python",
   "nbconvert_exporter": "python",
   "pygments_lexer": "ipython3",
   "version": "3.12.2"
  }
 },
 "nbformat": 4,
 "nbformat_minor": 2
}
