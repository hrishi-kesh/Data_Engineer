{
 "cells": [
  {
   "cell_type": "code",
   "execution_count": 7,
   "metadata": {},
   "outputs": [],
   "source": [
    "import pandas as pd\n",
    "df=pd.read_csv(r'D:\\Data_Engineer\\Netflix Data Cleaning & Analysing DE Project\\netflix_titles.csv', encoding='utf-8')"
   ]
  },
  {
   "cell_type": "code",
   "execution_count": 11,
   "metadata": {},
   "outputs": [],
   "source": [
    "import sqlalchemy as sal\n",
    "engine=sal.create_engine('mssql+pyodbc://INSPIRON/Hrishi?driver=ODBC+DRIVER+17+FOR+SQL+SERVER')\n",
    "conn=engine.connect()"
   ]
  },
  {
   "cell_type": "code",
   "execution_count": 12,
   "metadata": {},
   "outputs": [],
   "source": [
    "df.to_sql('netflix_row', con=conn, index=False, if_exists='append' )\n",
    "conn.close()"
   ]
  },
  {
   "cell_type": "code",
   "execution_count": null,
   "metadata": {},
   "outputs": [
    {
     "name": "stdout",
     "output_type": "stream",
     "text": [
      "     show_id                                title\n",
      "2638   s2639                            الف مبروك\n",
      "2639   s2640                         دفعة القاهرة\n",
      "2998   s2999  ​SAINT SEIYA: Knights of the Zodiac\n",
      "4667   s4668                 ​​Kuch Bheege Alfaaz\n",
      "4914   s4915                                 海的儿子\n",
      "5022   s5023                              반드시 잡는다\n",
      "5968   s5969                         ​Goli Soda 2\n",
      "5969   s5970                   ​Maj Rati ​​Keteki\n",
      "5970   s5971                          ​Mayurakshi\n",
      "5974   s5975                  แผนร้ายนายเจ้าเล่ห์\n",
      "6177   s6178                             忍者ハットリくん\n",
      "7101   s7102                                 마녀사냥\n",
      "7108   s7109                  최강전사 미니특공대 : 영웅의 탄생\n",
      "8774   s8775                            يوم الدين\n",
      "8794   s8795                               اشتباك\n"
     ]
    }
   ],
   "source": []
  }
 ],
 "metadata": {
  "kernelspec": {
   "display_name": "Python 3",
   "language": "python",
   "name": "python3"
  },
  "language_info": {
   "codemirror_mode": {
    "name": "ipython",
    "version": 3
   },
   "file_extension": ".py",
   "mimetype": "text/x-python",
   "name": "python",
   "nbconvert_exporter": "python",
   "pygments_lexer": "ipython3",
   "version": "3.12.2"
  }
 },
 "nbformat": 4,
 "nbformat_minor": 2
}
